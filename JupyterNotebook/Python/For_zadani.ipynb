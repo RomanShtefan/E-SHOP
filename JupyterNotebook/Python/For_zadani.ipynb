{
  "nbformat": 4,
  "nbformat_minor": 0,
  "metadata": {
    "colab": {
      "name": "For_zadani.ipynb",
      "provenance": [],
      "include_colab_link": true
    },
    "kernelspec": {
      "name": "python3",
      "display_name": "Python 3"
    },
    "language_info": {
      "name": "python"
    }
  },
  "cells": [
    {
      "cell_type": "markdown",
      "metadata": {
        "id": "view-in-github",
        "colab_type": "text"
      },
      "source": [
        "<a href=\"https://colab.research.google.com/github/RomanShtefan/E-SHOP/blob/main/JupyterNotebook/Python/For_zadani.ipynb\" target=\"_parent\"><img src=\"https://colab.research.google.com/assets/colab-badge.svg\" alt=\"Open In Colab\"/></a>"
      ]
    },
    {
      "cell_type": "markdown",
      "metadata": {
        "id": "EYcVu7x2Ocam"
      },
      "source": [
        "# For cyklus\n",
        "Tento cyklus slouží k procházení \"seznamu\". V každém průchodu cyklem máme uloženou jednu hodnotu z tohoto seznamu.\n",
        "\n",
        "\"Seznam\", který lze procházet ``` for ``` cyklem, může být v Pythonu spoustu věcí - např:\n",
        "1. list, tuple - přímo seznam prvků\n",
        "2. string - seznam znaků\n",
        "3. soubor - seznam řádků\n",
        "4. range - seznam čísel\n",
        "\n",
        "For cyklus vypadá takto:\n",
        "```\n",
        "for jeden_prvek in seznam:\n",
        "    tělo cyklu\n",
        "```\n",
        "\n",
        " ```jeden_prvek``` je proměnná (občas jí říkáme \"řídící proměnná\"), ve které je postupně (v každém průchodu) uložen každý prvek ze ``` seznam ```.\n",
        "\n",
        "Jednoduchá ukázka for cyklu, který vypíše čísla od 0 do 9:"
      ]
    },
    {
      "cell_type": "code",
      "metadata": {
        "id": "hgqn6Y23RGEJ"
      },
      "source": [
        "for i in range(10):\n",
        "    print(i)"
      ],
      "execution_count": null,
      "outputs": []
    },
    {
      "cell_type": "markdown",
      "metadata": {
        "id": "qdKBM2QqRwD1"
      },
      "source": [
        "For cyklus s ```range``` použváme (mimo jiné) ve chvíli, kdy víme, kolikrát chceme část kódu zopakovat - ```range``` totiž vytvoří přesně tolik čísel, kolik do něj (v jeho nejjednodušším použítí) zapíšeme.\n",
        "\n",
        "V jednoduchých for cyklech uvidíte většinou jako řídící proměnnou písmeno ```i``` (jako zkratka pro index). Programátor je líný, proto jedno písmenko :). Nenechte se zmást, místo písmena ```i``` může být libovolný název proměnné, je to jen nepsaná konvence."
      ]
    },
    {
      "cell_type": "code",
      "metadata": {
        "id": "oILA-V7kUKj6"
      },
      "source": [
        "# průchod list\n",
        "vsichni_kamaradi = [\"Adam\", \"Bára\", \"Cyril\", \"Denisa\"]\n",
        "for kamarad in vsichni_kamaradi:\n",
        "    print(kamarad)"
      ],
      "execution_count": null,
      "outputs": []
    },
    {
      "cell_type": "code",
      "metadata": {
        "id": "epbFvOIGU_LH"
      },
      "source": [
        "# průchod string\n",
        "vstup = input(\"Zadejte libovolny retezec: \")\n",
        "for pismeno in vstup:\n",
        "    print(pismeno)"
      ],
      "execution_count": null,
      "outputs": []
    },
    {
      "cell_type": "markdown",
      "metadata": {
        "id": "LFTDfOHaDhSt"
      },
      "source": [
        "# Enumerate"
      ]
    },
    {
      "cell_type": "markdown",
      "metadata": {
        "id": "l2svjX-6Dvdn"
      },
      "source": [
        "Funkce enumerate slouží také pro procházení posloupnosti čísel, stringu, nebo libovolné datové struktury(např. list), ale mimo uchovávání jednotlivých elementů ještě ukládá index každého elementu."
      ]
    },
    {
      "cell_type": "markdown",
      "metadata": {
        "id": "Br7z_BhoESz6"
      },
      "source": [
        "Bez funkce enumerate by situace vypadala např. následovně:"
      ]
    },
    {
      "cell_type": "code",
      "metadata": {
        "id": "cET_yvEQEbRf"
      },
      "source": [
        "vsichni_kamaradi = [\"Adam\", \"Bára\", \"Cyril\", \"Denisa\"]\n",
        "index = 1\n",
        "\n",
        "for kamarad in vsichni_kamaradi:\n",
        "  print(\"Můj {}. kamarád je {}\".format(index, kamarad))\n",
        "  index += 1\n",
        "print(\"=== nebo ===\")\n",
        "for index in range(len(vsichni_kamaradi)):\n",
        "  print(\"Můj {}. kamarád je {}\".format(index+1, vsichni_kamaradi[index]))"
      ],
      "execution_count": null,
      "outputs": []
    },
    {
      "cell_type": "markdown",
      "metadata": {
        "id": "cqYX01u1FLJE"
      },
      "source": [
        "Ovšem s funkcí enumerate si lze tento problém značně zjednodušit:\n",
        "\n",
        "Jako řídící proměnnou přídáme na první místo proměnnou do které se bude ukládát pořadí(index) hodnoty v daném cyklu. Za ní si zvolíme klasickou řídící proměnnou která se bude starat hodnotu procházené posloupnosti."
      ]
    },
    {
      "cell_type": "code",
      "metadata": {
        "colab": {
          "base_uri": "https://localhost:8080/"
        },
        "id": "ks-WDBxwFVF3",
        "outputId": "e5cc56ae-29e5-4b18-cb38-6904343888da"
      },
      "source": [
        "vsichni_kamaradi = [\"Adam\", \"Bára\", \"Cyril\", \"Denisa\"]\n",
        "\n",
        "for index, kamarad in enumerate(vsichni_kamaradi):\n",
        "  print(\"Můj {}. kamarád je {}\".format(index, kamarad))"
      ],
      "execution_count": null,
      "outputs": [
        {
          "output_type": "stream",
          "name": "stdout",
          "text": [
            "Můj 0. kamarád je Adam\n",
            "Můj 1. kamarád je Bára\n",
            "Můj 2. kamarád je Cyril\n",
            "Můj 3. kamarád je Denisa\n"
          ]
        }
      ]
    },
    {
      "cell_type": "markdown",
      "metadata": {
        "id": "bG90w45JGJMq"
      },
      "source": [
        "Funkce enumerate ještě nabízí argument start, kterým říkáme na jaké číselné hodnotě bude indexovací řídící proměnná začínat. Ve výchozím stavu začíná samozřejmě na nule."
      ]
    },
    {
      "cell_type": "code",
      "metadata": {
        "colab": {
          "base_uri": "https://localhost:8080/"
        },
        "id": "NnMNGCJ-GXD-",
        "outputId": "70fe1fbf-63bc-4112-98e6-5d2407bd9b13"
      },
      "source": [
        "vsichni_kamaradi = [\"Adam\", \"Bára\", \"Cyril\", \"Denisa\"]\n",
        "\n",
        "for index, kamarad in enumerate(vsichni_kamaradi, start=1):\n",
        "  print(\"Můj {}. kamarád je {}\".format(index, kamarad))"
      ],
      "execution_count": null,
      "outputs": [
        {
          "output_type": "stream",
          "name": "stdout",
          "text": [
            "Můj 1. kamarád je Adam\n",
            "Můj 2. kamarád je Bára\n",
            "Můj 3. kamarád je Cyril\n",
            "Můj 4. kamarád je Denisa\n"
          ]
        }
      ]
    },
    {
      "cell_type": "markdown",
      "metadata": {
        "id": "BJl4mRtrGtgJ"
      },
      "source": [
        "# Cvičení"
      ]
    },
    {
      "cell_type": "markdown",
      "metadata": {
        "id": "tkHrSBT0o2yY"
      },
      "source": [
        "# 1"
      ]
    },
    {
      "cell_type": "markdown",
      "metadata": {
        "id": "-cIvoK8vpBOU"
      },
      "source": [
        "Dokonči následující kód tak, aby vypsal všechna jména z listu, která obsahují písmeno e."
      ]
    },
    {
      "cell_type": "code",
      "metadata": {
        "id": "EPdlT0b6qFsD"
      },
      "source": [
        "jmena = [\"Josef\", \"Martin\", \"Petr\", \"Marek\", \"Tadeas\", \"Jiri\"]\n",
        "\n",
        "for jmeno in jmena:"
      ],
      "execution_count": null,
      "outputs": []
    },
    {
      "cell_type": "markdown",
      "metadata": {
        "id": "zgGAo1L-pu0E"
      },
      "source": [
        "Očekávaný výstup - referenční řešení má 4 řádky:\n",
        "\n",
        "<table><tr>\n",
        "<td><pre>\n",
        "Josef\n",
        "Petr\n",
        "Marek\n",
        "Tadeas\n",
        "</pre></td>\n",
        "</tr></table>\n",
        "\n"
      ]
    },
    {
      "cell_type": "markdown",
      "metadata": {
        "id": "W5OUwRDDqabk"
      },
      "source": [
        "# 2"
      ]
    },
    {
      "cell_type": "markdown",
      "metadata": {
        "id": "z_NgWxBMqc4_"
      },
      "source": [
        "Vypiš všechna lichá čísla do 100 (užitím znalostí z této kapitoly)."
      ]
    },
    {
      "cell_type": "code",
      "metadata": {
        "id": "tPev7RV-0poR"
      },
      "source": [
        "# TODO: tento úkol je celý na vás a jistě ho zvládnete i zkontrolovat...\n",
        "# referenční řešení má 2 řádky\n"
      ],
      "execution_count": null,
      "outputs": []
    },
    {
      "cell_type": "markdown",
      "metadata": {
        "id": "AsdnQTMarMEH"
      },
      "source": [
        "# 3"
      ]
    },
    {
      "cell_type": "markdown",
      "metadata": {
        "id": "5zcP7BI2ryTM"
      },
      "source": [
        "Projdi uvedený list jmen měst a vypiš vždy index města a název města (indexy začínají od 0). U města, jehož index uživatel zadal, přidej ještě nápis \"Vybráno\".\n",
        "\n",
        "Pokud uživatel zadá číslo, které neodpovídá žádnému indexu vypiš zprávu: Chybný vstup"
      ]
    },
    {
      "cell_type": "code",
      "metadata": {
        "id": "szjMo6GwrU6J",
        "outputId": "9e94c8bb-3e0b-400b-82d3-8b0e9efbf48b",
        "colab": {
          "base_uri": "https://localhost:8080/",
          "height": 183
        }
      },
      "source": [
        "a = [5,1,3,6,8,54,12]\n",
        "for i in range(0, len(a)-1):\n",
        "  print(i)\n",
        "  if (a[i]>a[i+1]):\n",
        "    a[i], a[i+1] = a[i+1], a[i]\n",
        "\n",
        "print(a)"
      ],
      "execution_count": 20,
      "outputs": [
        {
          "output_type": "error",
          "ename": "TypeError",
          "evalue": "'list' object is not callable",
          "traceback": [
            "\u001b[0;31m---------------------------------------------------------------------------\u001b[0m",
            "\u001b[0;31mTypeError\u001b[0m                                 Traceback (most recent call last)",
            "\u001b[0;32m<ipython-input-20-ed09bf2ff2ad>\u001b[0m in \u001b[0;36m<cell line: 7>\u001b[0;34m()\u001b[0m\n\u001b[1;32m      5\u001b[0m     \u001b[0ma\u001b[0m\u001b[0;34m[\u001b[0m\u001b[0mi\u001b[0m\u001b[0;34m]\u001b[0m\u001b[0;34m,\u001b[0m \u001b[0ma\u001b[0m\u001b[0;34m[\u001b[0m\u001b[0mi\u001b[0m\u001b[0;34m+\u001b[0m\u001b[0;36m1\u001b[0m\u001b[0;34m]\u001b[0m \u001b[0;34m=\u001b[0m \u001b[0ma\u001b[0m\u001b[0;34m[\u001b[0m\u001b[0mi\u001b[0m\u001b[0;34m+\u001b[0m\u001b[0;36m1\u001b[0m\u001b[0;34m]\u001b[0m\u001b[0;34m,\u001b[0m \u001b[0ma\u001b[0m\u001b[0;34m[\u001b[0m\u001b[0mi\u001b[0m\u001b[0;34m]\u001b[0m\u001b[0;34m\u001b[0m\u001b[0;34m\u001b[0m\u001b[0m\n\u001b[1;32m      6\u001b[0m \u001b[0;34m\u001b[0m\u001b[0m\n\u001b[0;32m----> 7\u001b[0;31m \u001b[0mprint\u001b[0m\u001b[0;34m(\u001b[0m\u001b[0ma\u001b[0m\u001b[0;34m)\u001b[0m\u001b[0;34m\u001b[0m\u001b[0;34m\u001b[0m\u001b[0m\n\u001b[0m",
            "\u001b[0;31mTypeError\u001b[0m: 'list' object is not callable"
          ]
        }
      ]
    },
    {
      "cell_type": "markdown",
      "metadata": {
        "id": "Q0PSSIuytmit"
      },
      "source": [
        "Očekáváný výstup - referenční řešení má 18 řádků:\n",
        "<table><tr>\n",
        "<td><pre>\n",
        "Zadejte index mesta: 2\n",
        "0. město: Ostrava\n",
        "1. město: Kladno\n",
        "2. město: Praha Vybráno\n",
        "3. město: Liberec\n",
        "4. město: Opava\n",
        "5. město: Ceske Budejovice\n",
        "6. město: Litomerice\n",
        "</pre></td>\n",
        "<td><pre>\n",
        "Zadejte index mesta: -5\n",
        "Chybný vstup\n",
        "</pre></td>\n",
        "<td><pre>\n",
        "Zadaný vstup: 5\n",
        "0. město: Ostrava\n",
        "1. město: Kladno\n",
        "2. město: Praha\n",
        "3. město: Liberec\n",
        "4. město: Opava\n",
        "5. město: Ceske Budejovice Vybráno\n",
        "6. město: Litomerice\n",
        "</pre></td>\n",
        "<td><pre>\n",
        "Zadejte index mesta: 9\n",
        "Chybný vstup\n",
        "</pre></td>\n",
        "</tr></table>\n",
        "\n",
        "\n",
        "\n",
        "\n",
        "\n",
        "\n"
      ]
    }
  ]
}